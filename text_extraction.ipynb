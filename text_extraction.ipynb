{
 "cells": [
  {
   "cell_type": "code",
   "id": "initial_id",
   "metadata": {
    "collapsed": true,
    "ExecuteTime": {
     "end_time": "2025-04-16T06:39:57.484091Z",
     "start_time": "2025-04-16T06:39:57.245327Z"
    }
   },
   "source": [
    "from docx import Document\n",
    "import json\n",
    "import re\n",
    "import os\n",
    "\n",
    "\n",
    "def process_vietnamese_regulation_docx(file_path, output_folder):\n",
    "    \"\"\"Process Vietnamese regulatory DOCX files and return JSON file path only\"\"\"\n",
    "    # Create output folder if it doesn't exist\n",
    "    if not os.path.exists(output_folder):\n",
    "        os.makedirs(output_folder)\n",
    "\n",
    "    # Base filename without extension\n",
    "    base_name = os.path.basename(file_path).split('.')[0]\n",
    "\n",
    "    # Load the document\n",
    "    doc = Document(file_path)\n",
    "\n",
    "    # Extract document metadata and structure\n",
    "    document_data = {\n",
    "        \"title\": \"\",\n",
    "        \"document_number\": \"\",\n",
    "        \"date\": \"\",\n",
    "        \"issuer\": \"\",\n",
    "        \"sections\": [],\n",
    "        \"articles\": [],\n",
    "        \"tables\": []\n",
    "    }\n",
    "\n",
    "    # Extract text with formatting hints\n",
    "    current_article = None\n",
    "    current_section = None\n",
    "\n",
    "    # Process title and metadata from early paragraphs\n",
    "    for i, para in enumerate(doc.paragraphs[:10]):  # Check first few paragraphs for metadata\n",
    "        text = para.text.strip()\n",
    "        if not text:\n",
    "            continue\n",
    "\n",
    "        # Try to identify document number\n",
    "        if \"Số:\" in text and document_data[\"document_number\"] == \"\":\n",
    "            document_data[\"document_number\"] = text\n",
    "\n",
    "        # Try to identify title - usually in bold and/or all caps\n",
    "        elif text.isupper() and \"QUYẾT ĐỊNH\" in text and document_data[\"title\"] == \"\":\n",
    "            document_data[\"title\"] = text\n",
    "\n",
    "        # Try to identify issuer - usually all caps with \"TRƯỞNG\"\n",
    "        elif \"TRƯỞNG\" in text and text.isupper() and document_data[\"issuer\"] == \"\":\n",
    "            document_data[\"issuer\"] = text\n",
    "\n",
    "    # Process all paragraphs for content\n",
    "    for i, para in enumerate(doc.paragraphs):\n",
    "        text = para.text.strip()\n",
    "        if not text:\n",
    "            continue\n",
    "\n",
    "        # Try to identify articles (Điều)\n",
    "        article_match = re.match(r'^Điều\\s+(\\d+)\\.\\s*(.*)', text)\n",
    "        if article_match:\n",
    "            article_num = article_match.group(1)\n",
    "            article_title = article_match.group(2)\n",
    "            current_article = {\n",
    "                \"number\": article_num,\n",
    "                \"title\": article_title,\n",
    "                \"content\": []\n",
    "            }\n",
    "            document_data[\"articles\"].append(current_article)\n",
    "\n",
    "        # Try to identify sections with numbering patterns common in Vietnamese regulations\n",
    "        section_match = re.match(r'^(\\d+\\.(?:\\d+\\.?)*)\\s*(.*)', text)\n",
    "        if section_match and not article_match:  # Avoid matching articles again\n",
    "            section_num = section_match.group(1)\n",
    "            section_text = section_match.group(2)\n",
    "            current_section = {\n",
    "                \"number\": section_num,\n",
    "                \"text\": section_text,\n",
    "                \"level\": len(section_num.split('.')) - 1  # Determine hierarchy level\n",
    "            }\n",
    "            document_data[\"sections\"].append(current_section)\n",
    "\n",
    "        # Add content to current article if we're in one\n",
    "        if current_article and not article_match:  # Don't add the article header itself\n",
    "            current_article[\"content\"].append(text)\n",
    "\n",
    "    # Process tables\n",
    "    for i, table in enumerate(doc.tables):\n",
    "        table_data = []\n",
    "        for row in table.rows:\n",
    "            row_data = [cell.text.strip() for cell in row.cells]\n",
    "            table_data.append(row_data)\n",
    "\n",
    "        # Save table with context\n",
    "        document_data[\"tables\"].append({\n",
    "            \"table_id\": i + 1,\n",
    "            \"data\": table_data\n",
    "        })\n",
    "\n",
    "    # Save as structured JSON\n",
    "    json_path = os.path.join(output_folder, f\"{base_name}.json\")\n",
    "    with open(json_path, 'w', encoding='utf-8') as f:\n",
    "        json.dump(document_data, f, ensure_ascii=False, indent=2)\n",
    "\n",
    "    return json_path\n",
    "\n",
    "\n",
    "# Usage\n",
    "file_path = \"D:\\\\LLM_From_Scratch\\\\data\\\\1.-QD-967-vv-ban-hanh-Quy-che-CTSV-truong-DHQT-Signed-4-da-gop.docx\"\n",
    "json_file = process_vietnamese_regulation_docx(file_path, \"D:\\\\LLM_From_Scratch\\\\processed_data\")\n",
    "\n",
    "print(f\"JSON file saved to: {json_file}\")"
   ],
   "outputs": [
    {
     "name": "stdout",
     "output_type": "stream",
     "text": [
      "JSON file saved to: D:\\LLM_From_Scratch\\processed_data\\1.json\n"
     ]
    }
   ],
   "execution_count": 9
  },
  {
   "metadata": {
    "ExecuteTime": {
     "end_time": "2025-04-16T06:39:59.074828Z",
     "start_time": "2025-04-16T06:39:58.921841Z"
    }
   },
   "cell_type": "code",
   "source": [
    "file_path=\"D:\\\\LLM_From_Scratch\\\\data\\\\3.-Phu-luc-1-30122022-Signed-2.docx\"\n",
    "json_file = process_vietnamese_regulation_docx(file_path, \"D:\\\\LLM_From_Scratch\\\\processed_data\")\n",
    "print(f\"JSON file saved to: {json_file}\")"
   ],
   "id": "60ab89ddb16b70fb",
   "outputs": [
    {
     "name": "stdout",
     "output_type": "stream",
     "text": [
      "JSON file saved to: D:\\LLM_From_Scratch\\processed_data\\3.json\n"
     ]
    }
   ],
   "execution_count": 10
  },
  {
   "metadata": {
    "ExecuteTime": {
     "end_time": "2025-04-16T06:40:00.685589Z",
     "start_time": "2025-04-16T06:40:00.555463Z"
    }
   },
   "cell_type": "code",
   "source": [
    "file_path=\"D:\\\\LLM_From_Scratch\\\\data\\\\4.-Phu-luc-II-Tieu-chi-va-Khung-DRL-Signed-3.docx\"\n",
    "json_file = process_vietnamese_regulation_docx(file_path, \"D:\\\\LLM_From_Scratch\\\\processed_data\")\n",
    "print(f\"JSON file saved to: {json_file}\")"
   ],
   "id": "2fdcadd4faadd43",
   "outputs": [
    {
     "name": "stdout",
     "output_type": "stream",
     "text": [
      "JSON file saved to: D:\\LLM_From_Scratch\\processed_data\\4.json\n"
     ]
    }
   ],
   "execution_count": 11
  },
  {
   "metadata": {},
   "cell_type": "code",
   "outputs": [],
   "execution_count": null,
   "source": "",
   "id": "26f3f068a600561b"
  }
 ],
 "metadata": {
  "kernelspec": {
   "display_name": "Python 3",
   "language": "python",
   "name": "python3"
  },
  "language_info": {
   "codemirror_mode": {
    "name": "ipython",
    "version": 2
   },
   "file_extension": ".py",
   "mimetype": "text/x-python",
   "name": "python",
   "nbconvert_exporter": "python",
   "pygments_lexer": "ipython2",
   "version": "2.7.6"
  }
 },
 "nbformat": 4,
 "nbformat_minor": 5
}
