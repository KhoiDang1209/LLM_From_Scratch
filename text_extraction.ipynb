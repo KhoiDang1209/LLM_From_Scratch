{
 "cells": [
  {
   "cell_type": "code",
   "id": "initial_id",
   "metadata": {
    "collapsed": true,
    "ExecuteTime": {
     "end_time": "2025-04-17T04:25:22.336469Z",
     "start_time": "2025-04-17T04:25:22.088672Z"
    }
   },
   "source": [
    "from docx import Document\n",
    "import json\n",
    "import re\n",
    "import os\n",
    "\n",
    "\n",
    "def process_vietnamese_regulation_docx(file_path, output_folder):\n",
    "    \"\"\"Process Vietnamese regulatory DOCX files and return JSON file path only\"\"\"\n",
    "    # Create output folder if it doesn't exist\n",
    "    if not os.path.exists(output_folder):\n",
    "        os.makedirs(output_folder)\n",
    "\n",
    "    # Base filename without extension\n",
    "    base_name = os.path.basename(file_path).split('.')[0]\n",
    "\n",
    "    # Load the document\n",
    "    doc = Document(file_path)\n",
    "\n",
    "    # Extract document metadata and structure\n",
    "    document_data = {\n",
    "        \"title\": \"\",\n",
    "        \"document_number\": \"\",\n",
    "        \"date\": \"\",\n",
    "        \"issuer\": \"\",\n",
    "        \"sections\": [],\n",
    "        \"articles\": [],\n",
    "        \"tables\": []\n",
    "    }\n",
    "\n",
    "    # Extract text with formatting hints\n",
    "    current_article = None\n",
    "    current_section = None\n",
    "\n",
    "    # Process title and metadata from early paragraphs\n",
    "    for i, para in enumerate(doc.paragraphs[:10]):  # Check first few paragraphs for metadata\n",
    "        text = para.text.strip()\n",
    "        if not text:\n",
    "            continue\n",
    "\n",
    "        # Try to identify document number\n",
    "        if \"Số:\" in text and document_data[\"document_number\"] == \"\":\n",
    "            document_data[\"document_number\"] = text\n",
    "\n",
    "        # Try to identify title - usually in bold and/or all caps\n",
    "        elif text.isupper() and \"QUYẾT ĐỊNH\" in text and document_data[\"title\"] == \"\":\n",
    "            document_data[\"title\"] = text\n",
    "\n",
    "        # Try to identify issuer - usually all caps with \"TRƯỞNG\"\n",
    "        elif \"TRƯỞNG\" in text and text.isupper() and document_data[\"issuer\"] == \"\":\n",
    "            document_data[\"issuer\"] = text\n",
    "\n",
    "    # Process all paragraphs for content\n",
    "    for i, para in enumerate(doc.paragraphs):\n",
    "        text = para.text.strip()\n",
    "        if not text:\n",
    "            continue\n",
    "\n",
    "        # Try to identify articles (Điều)\n",
    "        article_match = re.match(r'^Điều\\s+(\\d+)\\.\\s*(.*)', text)\n",
    "        if article_match:\n",
    "            article_num = article_match.group(1)\n",
    "            article_title = article_match.group(2)\n",
    "            current_article = {\n",
    "                \"number\": article_num,\n",
    "                \"title\": article_title,\n",
    "                \"content\": []\n",
    "            }\n",
    "            document_data[\"articles\"].append(current_article)\n",
    "\n",
    "        # Try to identify sections with numbering patterns common in Vietnamese regulations\n",
    "        section_match = re.match(r'^(\\d+\\.(?:\\d+\\.?)*)\\s*(.*)', text)\n",
    "        if section_match and not article_match:  # Avoid matching articles again\n",
    "            section_num = section_match.group(1)\n",
    "            section_text = section_match.group(2)\n",
    "            current_section = {\n",
    "                \"number\": section_num,\n",
    "                \"text\": section_text,\n",
    "                \"level\": len(section_num.split('.')) - 1  # Determine hierarchy level\n",
    "            }\n",
    "            document_data[\"sections\"].append(current_section)\n",
    "\n",
    "        # Add content to current article if we're in one\n",
    "        if current_article and not article_match:  # Don't add the article header itself\n",
    "            current_article[\"content\"].append(text)\n",
    "\n",
    "    # Process tables\n",
    "    for i, table in enumerate(doc.tables):\n",
    "        table_data = []\n",
    "        for row in table.rows:\n",
    "            row_data = [cell.text.strip() for cell in row.cells]\n",
    "            table_data.append(row_data)\n",
    "\n",
    "        # Save table with context\n",
    "        document_data[\"tables\"].append({\n",
    "            \"table_id\": i + 1,\n",
    "            \"data\": table_data\n",
    "        })\n",
    "\n",
    "    # Save as structured JSON\n",
    "    json_path = os.path.join(output_folder, f\"{base_name}.json\")\n",
    "    with open(json_path, 'w', encoding='utf-8') as f:\n",
    "        json.dump(document_data, f, ensure_ascii=False, indent=2)\n",
    "\n",
    "    return json_path\n",
    "\n",
    "\n",
    "\n",
    "file_path = \"D:\\\\LLM_From_Scratch\\\\data\\\\1.-QD-967-vv-ban-hanh-Quy-che-CTSV-truong-DHQT-Signed-4-da-gop.docx\"\n",
    "json_file = process_vietnamese_regulation_docx(file_path, \"D:\\\\LLM_From_Scratch\\\\processed_data\")\n",
    "\n",
    "print(f\"JSON file saved to: {json_file}\")"
   ],
   "outputs": [
    {
     "name": "stdout",
     "output_type": "stream",
     "text": [
      "JSON file saved to: D:\\LLM_From_Scratch\\processed_data\\1.json\n"
     ]
    }
   ],
   "execution_count": 4
  },
  {
   "metadata": {
    "ExecuteTime": {
     "end_time": "2025-04-16T06:39:59.074828Z",
     "start_time": "2025-04-16T06:39:58.921841Z"
    }
   },
   "cell_type": "code",
   "source": [
    "file_path=\"D:\\\\LLM_From_Scratch\\\\data\\\\3.-Phu-luc-1-30122022-Signed-2.docx\"\n",
    "json_file = process_vietnamese_regulation_docx(file_path, \"D:\\\\LLM_From_Scratch\\\\processed_data\")\n",
    "print(f\"JSON file saved to: {json_file}\")"
   ],
   "id": "60ab89ddb16b70fb",
   "outputs": [
    {
     "name": "stdout",
     "output_type": "stream",
     "text": [
      "JSON file saved to: D:\\LLM_From_Scratch\\processed_data\\3.json\n"
     ]
    }
   ],
   "execution_count": 10
  },
  {
   "metadata": {
    "ExecuteTime": {
     "end_time": "2025-04-17T04:22:32.188413Z",
     "start_time": "2025-04-17T04:22:32.054522Z"
    }
   },
   "cell_type": "code",
   "source": [
    "file_path=\"D:\\\\LLM_From_Scratch\\\\data\\\\4.-Phu-luc-II-Tieu-chi-va-Khung-DRL-Signed-3.docx\"\n",
    "json_file = process_vietnamese_regulation_docx(file_path, \"D:\\\\LLM_From_Scratch\\\\processed_data\")\n",
    "print(f\"JSON file saved to: {json_file}\")"
   ],
   "id": "2fdcadd4faadd43",
   "outputs": [
    {
     "name": "stdout",
     "output_type": "stream",
     "text": [
      "JSON file saved to: D:\\LLM_From_Scratch\\processed_data\\4.json\n"
     ]
    }
   ],
   "execution_count": 2
  },
  {
   "metadata": {
    "ExecuteTime": {
     "end_time": "2025-04-17T04:23:57.161846Z",
     "start_time": "2025-04-17T04:23:57.039644Z"
    }
   },
   "cell_type": "code",
   "source": [
    "file_path=\"D:\\\\LLM_From_Scratch\\data\\\\5.-Quyet-dinh-ban-hanh-_-Quy-dinh-cong-tac-khen-thuong-sinh-vien-truong-DHQT-Signed-4.docx\"\n",
    "json_file = process_vietnamese_regulation_docx(file_path, \"D:\\\\LLM_From_Scratch\\\\processed_data\")\n",
    "print(f\"JSON file saved to: {json_file}\")"
   ],
   "id": "26f3f068a600561b",
   "outputs": [
    {
     "name": "stdout",
     "output_type": "stream",
     "text": [
      "JSON file saved to: D:\\LLM_From_Scratch\\processed_data\\5.json\n"
     ]
    }
   ],
   "execution_count": 3
  },
  {
   "metadata": {
    "ExecuteTime": {
     "end_time": "2025-04-17T04:33:52.756345Z",
     "start_time": "2025-04-17T04:33:52.480634Z"
    }
   },
   "cell_type": "code",
   "source": [
    "file_path=\"D:\\\\LLM_From_Scratch\\\\data\\\\9.-QD688-MGHP-2024.docx\"\n",
    "json_file = process_vietnamese_regulation_docx(file_path, \"D:\\\\LLM_From_Scratch\\\\processed_data\")\n",
    "print(f\"JSON file saved to: {json_file}\")"
   ],
   "id": "2be3280d79294efb",
   "outputs": [
    {
     "name": "stdout",
     "output_type": "stream",
     "text": [
      "JSON file saved to: D:\\LLM_From_Scratch\\processed_data\\9.json\n"
     ]
    }
   ],
   "execution_count": 5
  },
  {
   "metadata": {
    "ExecuteTime": {
     "end_time": "2025-04-17T04:39:50.581923Z",
     "start_time": "2025-04-17T04:39:50.399880Z"
    }
   },
   "cell_type": "code",
   "source": [
    "file_path=\"D:\\\\LLM_From_Scratch\\\\data\\\\12.Quy-che-to-chuc-hoat-dong-cua-P.CTSV-theo-QD-515-ngay-8.9.2022.docx\"\n",
    "json_file = process_vietnamese_regulation_docx(file_path, \"D:\\\\LLM_From_Scratch\\\\processed_data\")\n",
    "print(f\"JSON file saved to: {json_file}\")"
   ],
   "id": "7d8aa4a554c866ff",
   "outputs": [
    {
     "name": "stdout",
     "output_type": "stream",
     "text": [
      "JSON file saved to: D:\\LLM_From_Scratch\\processed_data\\12.json\n"
     ]
    }
   ],
   "execution_count": 6
  },
  {
   "metadata": {
    "ExecuteTime": {
     "end_time": "2025-04-17T05:04:51.058496Z",
     "start_time": "2025-04-17T05:04:50.937770Z"
    }
   },
   "cell_type": "code",
   "source": [
    "file_path=\"D:\\\\LLM_From_Scratch\\\\data\\\\13.-Quy-dinh-chinh-sach-ho-tro-nguoi-hoc-khuyet-tat.-Signed-4.docx\"\n",
    "json_file = process_vietnamese_regulation_docx(file_path, \"D:\\\\LLM_From_Scratch\\\\processed_data\")\n",
    "print(f\"JSON file saved to: {json_file}\")"
   ],
   "id": "3c9a64bc16a55341",
   "outputs": [
    {
     "name": "stdout",
     "output_type": "stream",
     "text": [
      "JSON file saved to: D:\\LLM_From_Scratch\\processed_data\\13.json\n"
     ]
    }
   ],
   "execution_count": 7
  },
  {
   "metadata": {
    "ExecuteTime": {
     "end_time": "2025-04-17T05:05:16.934065Z",
     "start_time": "2025-04-17T05:05:16.836118Z"
    }
   },
   "cell_type": "code",
   "source": [
    "file_path=\"D:\\\\LLM_From_Scratch\\\\data\\\\14.-Quy-dinh-doi-voi-Ban-can-su-lop-nam-2025-final-Signed-4.docx\"\n",
    "json_file = process_vietnamese_regulation_docx(file_path, \"D:\\\\LLM_From_Scratch\\\\processed_data\")\n",
    "print(f\"JSON file saved to: {json_file}\")"
   ],
   "id": "6ae417d13ab060c8",
   "outputs": [
    {
     "name": "stdout",
     "output_type": "stream",
     "text": [
      "JSON file saved to: D:\\LLM_From_Scratch\\processed_data\\14.json\n"
     ]
    }
   ],
   "execution_count": 8
  },
  {
   "metadata": {
    "ExecuteTime": {
     "end_time": "2025-04-17T05:05:31.363687Z",
     "start_time": "2025-04-17T05:05:30.981558Z"
    }
   },
   "cell_type": "code",
   "source": [
    "file_path=\"D:\\\\LLM_From_Scratch\\\\data\\\\15.-QD-719-6.12.2021_Quy-che-Hoc-vu-DH-Quoc-te-2021.signed-1.signed.signed.signed.signed-2.docx\"\n",
    "json_file = process_vietnamese_regulation_docx(file_path, \"D:\\\\LLM_From_Scratch\\\\processed_data\")\n",
    "print(f\"JSON file saved to: {json_file}\")"
   ],
   "id": "39893af11f218bb6",
   "outputs": [
    {
     "name": "stdout",
     "output_type": "stream",
     "text": [
      "JSON file saved to: D:\\LLM_From_Scratch\\processed_data\\15.json\n"
     ]
    }
   ],
   "execution_count": 9
  },
  {
   "metadata": {
    "ExecuteTime": {
     "end_time": "2025-04-17T05:05:48.346638Z",
     "start_time": "2025-04-17T05:05:48.143697Z"
    }
   },
   "cell_type": "code",
   "source": [
    "file_path=\"D:\\\\LLM_From_Scratch\\\\data\\\\16.-Quy-dinh-xet-cap-hoc-bong-tai-Truong-DHQT-Signed-4.docx\"\n",
    "json_file = process_vietnamese_regulation_docx(file_path, \"D:\\\\LLM_From_Scratch\\\\processed_data\")\n",
    "print(f\"JSON file saved to: {json_file}\")"
   ],
   "id": "869f3e16bc250307",
   "outputs": [
    {
     "name": "stdout",
     "output_type": "stream",
     "text": [
      "JSON file saved to: D:\\LLM_From_Scratch\\processed_data\\16.json\n"
     ]
    }
   ],
   "execution_count": 10
  },
  {
   "metadata": {
    "ExecuteTime": {
     "end_time": "2025-04-17T05:06:00.652592Z",
     "start_time": "2025-04-17T05:06:00.352057Z"
    }
   },
   "cell_type": "code",
   "source": [
    "file_path=\"D:\\\\LLM_From_Scratch\\\\data\\\\17.-Quy-che_To-chuc-thi-HK_Tr-Tiep.ban-hanh_05.01.25-Signed-8.docx\"\n",
    "json_file = process_vietnamese_regulation_docx(file_path, \"D:\\\\LLM_From_Scratch\\\\processed_data\")\n",
    "print(f\"JSON file saved to: {json_file}\")"
   ],
   "id": "e1a7ae29c7464c2b",
   "outputs": [
    {
     "name": "stdout",
     "output_type": "stream",
     "text": [
      "JSON file saved to: D:\\LLM_From_Scratch\\processed_data\\17.json\n"
     ]
    }
   ],
   "execution_count": 11
  },
  {
   "metadata": {
    "ExecuteTime": {
     "end_time": "2025-04-17T05:06:17.712252Z",
     "start_time": "2025-04-17T05:06:17.604436Z"
    }
   },
   "cell_type": "code",
   "source": [
    "file_path=\"D:\\\\LLM_From_Scratch\\\\data\\\\18.-QD-ban-hanh-Quy-dinh-Co-van-hoc-tap.signed.signed.signed.signed.signed.docx\"\n",
    "json_file = process_vietnamese_regulation_docx(file_path, \"D:\\\\LLM_From_Scratch\\\\processed_data\")\n",
    "print(f\"JSON file saved to: {json_file}\")"
   ],
   "id": "aecb1f2a7c701bdf",
   "outputs": [
    {
     "name": "stdout",
     "output_type": "stream",
     "text": [
      "JSON file saved to: D:\\LLM_From_Scratch\\processed_data\\18.json\n"
     ]
    }
   ],
   "execution_count": 12
  }
 ],
 "metadata": {
  "kernelspec": {
   "display_name": "Python 3",
   "language": "python",
   "name": "python3"
  },
  "language_info": {
   "codemirror_mode": {
    "name": "ipython",
    "version": 2
   },
   "file_extension": ".py",
   "mimetype": "text/x-python",
   "name": "python",
   "nbconvert_exporter": "python",
   "pygments_lexer": "ipython2",
   "version": "2.7.6"
  }
 },
 "nbformat": 4,
 "nbformat_minor": 5
}
