{
 "cells": [
  {
   "metadata": {
    "ExecuteTime": {
     "end_time": "2025-04-17T15:10:49.591521Z",
     "start_time": "2025-04-17T15:10:14.450990Z"
    }
   },
   "cell_type": "code",
   "source": [
    "from pdf2image import convert_from_path\n",
    "import pytesseract\n",
    "from PIL import Image\n",
    "import os\n",
    "\n",
    "def extract_text_from_pdf(pdf_path, output_folder, dpi=400, lang='vie'):\n",
    "    \"\"\"\n",
    "    Extract text from a PDF file and save it to a text file.\n",
    "\n",
    "    Args:\n",
    "        pdf_path (str): Path to the input PDF file.\n",
    "        output_folder (str): Folder to save the output text file.\n",
    "        dpi (int): Resolution for converting PDF to images. Default is 400.\n",
    "        lang (str): Language for OCR. Default is 'vie' (Vietnamese).\n",
    "    \"\"\"\n",
    "    # Create output folder if it doesn't exist\n",
    "    if not os.path.exists(output_folder):\n",
    "        os.makedirs(output_folder)\n",
    "\n",
    "    # Derive base name from the PDF file path\n",
    "    base_name = os.path.basename(pdf_path).split('.')[0]\n",
    "\n",
    "    # Convert PDF to images\n",
    "    images = convert_from_path(pdf_path, dpi=dpi)\n",
    "\n",
    "    # Extract text from each image\n",
    "    text_pages = []\n",
    "    for image in images:\n",
    "        text = pytesseract.image_to_string(image, lang=lang)\n",
    "        text_pages.append(text)\n",
    "\n",
    "    # Write extracted text to the output file\n",
    "    txt_path = os.path.join(output_folder, f\"{base_name}.txt\")\n",
    "    with open(txt_path, \"w\", encoding=\"utf-8\") as text_file:\n",
    "        for page in text_pages:\n",
    "            text_file.write(page + \"\\n\\n\")\n",
    "\n",
    "    return txt_path\n",
    "\n",
    "# Example usage\n",
    "pdf_path = \"D:\\\\LLM_From_Scratch\\\\data\\\\6.-QD-191_2011_Quy-dinh-che-do-chinh-sach.pdf\"\n",
    "output_folder = \"D:\\\\LLM_From_Scratch\\\\processed_data\"\n",
    "txt_file = extract_text_from_pdf(pdf_path, output_folder)\n",
    "\n",
    "print(f\"Text file saved to: {txt_file}\")"
   ],
   "id": "321a520653858bcb",
   "outputs": [
    {
     "name": "stdout",
     "output_type": "stream",
     "text": [
      "Text file saved to: D:\\LLM_From_Scratch\\processed_data\\6.txt\n"
     ]
    }
   ],
   "execution_count": 2
  },
  {
   "metadata": {
    "ExecuteTime": {
     "end_time": "2025-04-17T15:12:41.088139Z",
     "start_time": "2025-04-17T15:12:14.878876Z"
    }
   },
   "cell_type": "code",
   "source": [
    "pdf_path = \"D:\\\\LLM_From_Scratch\\\\data\\\\7.-TB.486-MGHP-04112014-thong-bao-P.CTSV_.pdf\"\n",
    "output_folder = \"D:\\\\LLM_From_Scratch\\\\processed_data\"\n",
    "txt_file = extract_text_from_pdf(pdf_path, output_folder)\n",
    "\n",
    "print(f\"Text file saved to: {txt_file}\")"
   ],
   "id": "8f86134cb1e0529c",
   "outputs": [
    {
     "name": "stdout",
     "output_type": "stream",
     "text": [
      "Text file saved to: D:\\LLM_From_Scratch\\processed_data\\7.txt\n"
     ]
    }
   ],
   "execution_count": 3
  },
  {
   "metadata": {
    "ExecuteTime": {
     "end_time": "2025-04-17T15:20:10.897405Z",
     "start_time": "2025-04-17T15:13:06.098902Z"
    }
   },
   "cell_type": "code",
   "source": [
    "pdf_path = \"D:\\\\LLM_From_Scratch\\\\data\\\\8.-ND-81.signed.pdf\"\n",
    "output_folder = \"D:\\\\LLM_From_Scratch\\\\processed_data\"\n",
    "txt_file = extract_text_from_pdf(pdf_path, output_folder)\n",
    "\n",
    "print(f\"Text file saved to: {txt_file}\")"
   ],
   "id": "d70cf202b905010",
   "outputs": [
    {
     "name": "stdout",
     "output_type": "stream",
     "text": [
      "Text file saved to: D:\\LLM_From_Scratch\\processed_data\\8.txt\n"
     ]
    }
   ],
   "execution_count": 5
  },
  {
   "metadata": {
    "ExecuteTime": {
     "end_time": "2025-04-17T15:21:36.015281Z",
     "start_time": "2025-04-17T15:21:25.065562Z"
    }
   },
   "cell_type": "code",
   "source": [
    "pdf_path = \"D:\\\\LLM_From_Scratch\\\\data\\\\10.-Noi-Quy-SV-truong-DHQT-cap-nhat-08-2009.pdf\"\n",
    "output_folder = \"D:\\\\LLM_From_Scratch\\\\processed_data\"\n",
    "txt_file = extract_text_from_pdf(pdf_path, output_folder)\n",
    "\n",
    "print(f\"Text file saved to: {txt_file}\")"
   ],
   "id": "2bb6ccdbb9b82206",
   "outputs": [
    {
     "name": "stdout",
     "output_type": "stream",
     "text": [
      "Text file saved to: D:\\LLM_From_Scratch\\processed_data\\10.txt\n"
     ]
    }
   ],
   "execution_count": 6
  },
  {
   "metadata": {
    "ExecuteTime": {
     "end_time": "2025-04-17T15:22:23.819273Z",
     "start_time": "2025-04-17T15:21:52.932900Z"
    }
   },
   "cell_type": "code",
   "source": [
    "pdf_path = \"D:\\\\LLM_From_Scratch\\\\data\\\\11.QD-586-QD-DHQT-_-Quy-tac-ung-xu-nguoi-hoc.pdf\"\n",
    "output_folder = \"D:\\\\LLM_From_Scratch\\\\processed_data\"\n",
    "txt_file = extract_text_from_pdf(pdf_path, output_folder)\n",
    "\n",
    "print(f\"Text file saved to: {txt_file}\")"
   ],
   "id": "28b538abe6293f4d",
   "outputs": [
    {
     "name": "stdout",
     "output_type": "stream",
     "text": [
      "Text file saved to: D:\\LLM_From_Scratch\\processed_data\\11.txt\n"
     ]
    }
   ],
   "execution_count": 7
  },
  {
   "metadata": {
    "ExecuteTime": {
     "end_time": "2025-04-17T15:28:06.148704Z",
     "start_time": "2025-04-17T15:25:58.327279Z"
    }
   },
   "cell_type": "code",
   "source": [
    "pdf_path = \"D:\\\\LLM_From_Scratch\\\\data\\\\19.-2016-Quy-che-CTSV-Bo-GD-DT.pdf\"\n",
    "output_folder = \"D:\\\\LLM_From_Scratch\\\\processed_data\"\n",
    "txt_file = extract_text_from_pdf(pdf_path, output_folder)\n",
    "\n",
    "print(f\"Text file saved to: {txt_file}\")"
   ],
   "id": "c35807ba2568ecae",
   "outputs": [
    {
     "name": "stdout",
     "output_type": "stream",
     "text": [
      "Text file saved to: D:\\LLM_From_Scratch\\processed_data\\19.txt\n"
     ]
    }
   ],
   "execution_count": 8
  },
  {
   "metadata": {
    "ExecuteTime": {
     "end_time": "2025-04-17T15:30:13.915209Z",
     "start_time": "2025-04-17T15:28:06.248266Z"
    }
   },
   "cell_type": "code",
   "source": [
    "pdf_path = \"D:\\\\LLM_From_Scratch\\\\data\\\\20.-2019-Quy-che-CTSV-DHQG-HCM.pdf\"\n",
    "output_folder = \"D:\\\\LLM_From_Scratch\\\\processed_data\"\n",
    "txt_file = extract_text_from_pdf(pdf_path, output_folder)\n",
    "\n",
    "print(f\"Text file saved to: {txt_file}\")"
   ],
   "id": "7f849813b91f1bb3",
   "outputs": [
    {
     "name": "stdout",
     "output_type": "stream",
     "text": [
      "Text file saved to: D:\\LLM_From_Scratch\\processed_data\\20.txt\n"
     ]
    }
   ],
   "execution_count": 9
  },
  {
   "metadata": {
    "ExecuteTime": {
     "end_time": "2025-04-17T15:31:13.947278Z",
     "start_time": "2025-04-17T15:30:14.089936Z"
    }
   },
   "cell_type": "code",
   "source": [
    "pdf_path = \"D:\\\\LLM_From_Scratch\\\\data\\\\22.-2019-Quy-che-DGKQRL-DHQG-HCM.pdf\"\n",
    "output_folder = \"D:\\\\LLM_From_Scratch\\\\processed_data\"\n",
    "txt_file = extract_text_from_pdf(pdf_path, output_folder)\n",
    "\n",
    "print(f\"Text file saved to: {txt_file}\")"
   ],
   "id": "a4e2dc31beffb77f",
   "outputs": [
    {
     "name": "stdout",
     "output_type": "stream",
     "text": [
      "Text file saved to: D:\\LLM_From_Scratch\\processed_data\\22.txt\n"
     ]
    }
   ],
   "execution_count": 10
  },
  {
   "metadata": {
    "ExecuteTime": {
     "end_time": "2025-04-17T15:32:18.419846Z",
     "start_time": "2025-04-17T15:31:14.031350Z"
    }
   },
   "cell_type": "code",
   "source": [
    "pdf_path = \"D:\\\\LLM_From_Scratch\\\\data\\\\23.-QD1133_22815_VNU_ban-hanh-Quy-dinh-khen-thuong-HSSV-1.pdf\"\n",
    "output_folder = \"D:\\\\LLM_From_Scratch\\\\processed_data\"\n",
    "txt_file = extract_text_from_pdf(pdf_path, output_folder)\n",
    "\n",
    "print(f\"Text file saved to: {txt_file}\")"
   ],
   "id": "c3e4ec38b8a707ec",
   "outputs": [
    {
     "name": "stdout",
     "output_type": "stream",
     "text": [
      "Text file saved to: D:\\LLM_From_Scratch\\processed_data\\23.txt\n"
     ]
    }
   ],
   "execution_count": 11
  },
  {
   "metadata": {
    "ExecuteTime": {
     "end_time": "2025-04-17T15:33:37.745444Z",
     "start_time": "2025-04-17T15:32:18.617453Z"
    }
   },
   "cell_type": "code",
   "source": [
    "pdf_path = \"D:\\\\LLM_From_Scratch\\\\data\\\\24.-2013-Quy-che-CTSV-noi-tru.pdf\"\n",
    "output_folder = \"D:\\\\LLM_From_Scratch\\\\processed_data\"\n",
    "txt_file = extract_text_from_pdf(pdf_path, output_folder)\n",
    "\n",
    "print(f\"Text file saved to: {txt_file}\")"
   ],
   "id": "7b3b9096cbdfd448",
   "outputs": [
    {
     "name": "stdout",
     "output_type": "stream",
     "text": [
      "Text file saved to: D:\\LLM_From_Scratch\\processed_data\\24.txt\n"
     ]
    }
   ],
   "execution_count": 12
  },
  {
   "metadata": {
    "ExecuteTime": {
     "end_time": "2025-04-17T15:34:58.051296Z",
     "start_time": "2025-04-17T15:33:37.930045Z"
    }
   },
   "cell_type": "code",
   "source": [
    "pdf_path = \"D:\\\\LLM_From_Scratch\\\\data\\\\24.-2013-Quy-che-CTSV-noi-tru.pdf\"\n",
    "output_folder = \"D:\\\\LLM_From_Scratch\\\\processed_data\"\n",
    "txt_file = extract_text_from_pdf(pdf_path, output_folder)\n",
    "\n",
    "print(f\"Text file saved to: {txt_file}\")"
   ],
   "id": "493885d8585ada75",
   "outputs": [
    {
     "name": "stdout",
     "output_type": "stream",
     "text": [
      "Text file saved to: D:\\LLM_From_Scratch\\processed_data\\24.txt\n"
     ]
    }
   ],
   "execution_count": 13
  }
 ],
 "metadata": {
  "kernelspec": {
   "display_name": "Python 3",
   "language": "python",
   "name": "python3"
  },
  "language_info": {
   "codemirror_mode": {
    "name": "ipython",
    "version": 2
   },
   "file_extension": ".py",
   "mimetype": "text/x-python",
   "name": "python",
   "nbconvert_exporter": "python",
   "pygments_lexer": "ipython2",
   "version": "2.7.6"
  }
 },
 "nbformat": 4,
 "nbformat_minor": 5
}
